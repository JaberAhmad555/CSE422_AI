{
  "nbformat": 4,
  "nbformat_minor": 0,
  "metadata": {
    "colab": {
      "provenance": []
    },
    "kernelspec": {
      "name": "python3",
      "display_name": "Python 3"
    },
    "language_info": {
      "name": "python"
    }
  },
  "cells": [
    {
      "cell_type": "code",
      "source": [
        "import math"
      ],
      "metadata": {
        "id": "pMAywt_jvjhn"
      },
      "execution_count": null,
      "outputs": []
    },
    {
      "cell_type": "code",
      "execution_count": null,
      "metadata": {
        "colab": {
          "base_uri": "https://localhost:8080/"
        },
        "id": "HDcY40MGi6iD",
        "outputId": "b56c81d1-3da3-4166-a16b-5f8309d04964"
      },
      "outputs": [
        {
          "output_type": "stream",
          "name": "stdout",
          "text": [
            "A,T,C,G\n",
            "2 2 2 0 1 1 1 0\n",
            "ATGC\n",
            "ACGT\n",
            "-17\n"
          ]
        }
      ],
      "source": [
        "#Task1\n",
        "def weights_for_scoring(pool,std_id,target):\n",
        "    pool= pool.strip().split(',')\n",
        "    tar= target.strip()\n",
        "    tar_len=len(tar)\n",
        "    student_id = std_id.strip().replace(\" \", \"\")\n",
        "    last_digits_of_id = student_id[-tar_len:]\n",
        "    w=[]\n",
        "    for digit in last_digits_of_id:\n",
        "        w.append(int(digit))\n",
        "    return pool,tar,w\n",
        "def utility(gene_word,tar_word,weights):\n",
        "  penalty=0\n",
        "  max_word=max(len(gene_word),len(tar_word))\n",
        "  for i in range(max_word):\n",
        "    if i < len(gene_word):\n",
        "      gene_value=ord(gene_word[i])\n",
        "    else:\n",
        "      gene_value=0\n",
        "    if i < len(tar_word):\n",
        "      tar_value=ord(tar_word[i])\n",
        "    else:\n",
        "      tar_value=0\n",
        "    if i<len(weights):\n",
        "      position_value=weights[i]\n",
        "    else:\n",
        "      position_value=1\n",
        "    diff=abs(gene_value-tar_value)\n",
        "    spot_penalty=position_value*diff\n",
        "    penalty=penalty+spot_penalty\n",
        "  return -penalty\n",
        "def minimax_algo(pool,tar,w,height,alpha,beta,is_max,current):\n",
        "  if not pool:\n",
        "    score=utility(current,tar,w)\n",
        "    return score,current\n",
        "  best_gene=\"\"\n",
        "  if is_max:\n",
        "    best=(-math.inf)\n",
        "    for i in pool:\n",
        "      new=list(pool)\n",
        "      new.remove(i)\n",
        "      score,path=minimax_algo(new,tar,w,height+1,alpha,beta,False,current+i)\n",
        "      if score>best:\n",
        "        best=score\n",
        "        best_gene=path\n",
        "      alpha=max(alpha,score)\n",
        "      if alpha>=beta:\n",
        "        break\n",
        "    return best,best_gene\n",
        "  else:\n",
        "    worst=math.inf\n",
        "    for i in pool:\n",
        "      new=list(pool)\n",
        "      new.remove(i)\n",
        "      score,path=minimax_algo(new,tar,w,height+1,alpha,beta,True,current+i)\n",
        "      if score<worst:\n",
        "        worst=score\n",
        "        best_gene=path\n",
        "      beta=min(beta,score)\n",
        "      if alpha>=beta:\n",
        "        break\n",
        "    return worst,best_gene\n",
        "if __name__=='__main__':\n",
        "  pool=input()\n",
        "  std_id=input()\n",
        "  target=input()\n",
        "  pool,tar,w=weights_for_scoring(pool,std_id,target)\n",
        "  score,gene=minimax_algo(pool=pool,tar=target,w=w,height=0,alpha=-math.inf,beta=math.inf,is_max=True,current=\"\")\n",
        "  print(gene)\n",
        "  print(int(score))\n",
        "\n",
        "\n",
        "\n",
        "\n",
        "\n",
        "\n"
      ]
    },
    {
      "cell_type": "code",
      "source": [
        "#task2\n",
        "def minimax_booster_algo(pool,tar,weights,student_id,height,alpha,beta,is_max,current):\n",
        "  if not pool:\n",
        "    score=utility(current,tar,weights)\n",
        "    return score,current\n",
        "  best_gene=\"\"\n",
        "  if is_max:\n",
        "    best=-math.inf\n",
        "    for i in pool:\n",
        "      new=list(pool)\n",
        "      new.remove(i)\n",
        "      w_next=weights\n",
        "      if i=='S':\n",
        "        new_w=list(weights)\n",
        "        booster=int(student_id[:2])/100\n",
        "        for j in range(height,len(new_w)):\n",
        "          new_w[j]=new_w[j]*booster\n",
        "        w_next=new_w\n",
        "      score,path=minimax_booster_algo(new,tar,w_next,student_id,height+1,alpha,beta,False,current+i)\n",
        "      if score>best:\n",
        "        best=score\n",
        "        best_gene=path\n",
        "      alpha=max(alpha,score)\n",
        "      if alpha>=beta:\n",
        "        break\n",
        "    return best,best_gene\n",
        "  else:\n",
        "    worst=math.inf\n",
        "    for i in pool:\n",
        "      new=list(pool)\n",
        "      new.remove(i)\n",
        "      score,path=minimax_booster_algo(new,tar,weights,student_id,height+1,alpha,beta,True,current+i)\n",
        "      if score<worst:\n",
        "        worst=score\n",
        "        best_gene=path\n",
        "      beta=min(beta,score)\n",
        "      if alpha>=beta:\n",
        "        break\n",
        "    return worst,best_gene\n",
        "if __name__=='__main__':\n",
        "  pool=input()\n",
        "  std_id=input()\n",
        "  target=input()\n",
        "  org_pool,tar,w=weights_for_scoring(pool,std_id,target)\n",
        "  student_id = std_id.strip().replace(\" \", \"\")\n",
        "\n",
        "  b_score,b_gene=minimax_algo(org_pool,tar,w,0,-math.inf,math.inf,True,\"\")\n",
        "  with_s=list(org_pool)\n",
        "  with_s.append('S')\n",
        "\n",
        "  score_s,gene_s=minimax_booster_algo(pool=with_s,tar=tar,weights=w,student_id=student_id,height=0,alpha=-math.inf,beta=math.inf,is_max=True,current=\"\")\n",
        "  if score_s>b_score:\n",
        "    print('YEs')\n",
        "  else:\n",
        "    print('no')\n",
        "  print(gene_s)\n",
        "  print((score_s))"
      ],
      "metadata": {
        "colab": {
          "base_uri": "https://localhost:8080/"
        },
        "id": "0UkZ2VWQ5N0a",
        "outputId": "ef56b646-927c-446c-e4a6-926861cb5ed5"
      },
      "execution_count": null,
      "outputs": [
        {
          "output_type": "stream",
          "name": "stdout",
          "text": [
            "A,T,C,G\n",
            "2 2 2 0 1 1 1 0\n",
            "ATGC\n",
            "no\n",
            "SATCG\n",
            "-82.0\n"
          ]
        }
      ]
    },
    {
      "cell_type": "code",
      "source": [],
      "metadata": {
        "id": "mS77msp6_uPh"
      },
      "execution_count": null,
      "outputs": []
    }
  ]
}